{
 "cells": [
  {
   "cell_type": "code",
   "execution_count": 1,
   "metadata": {},
   "outputs": [],
   "source": [
    "import csv\n",
    "import tweepy\n",
    "import pandas as pd\n",
    "import re\n",
    "import string\n",
    "import nltk\n",
    "import time\n",
    "from nltk.corpus import words\n",
    "from textblob import TextBlob\n",
    "\n",
    "import seaborn as sns\n",
    "import matplotlib.pyplot as plt\n",
    "\n",
    "from nltk.tokenize import word_tokenize\n",
    "from nltk.stem import WordNetLemmatizer\n",
    "\n",
    "from sklearn.model_selection import train_test_split\n",
    "from sklearn.feature_extraction.text import TfidfVectorizer, CountVectorizer,TfidfTransformer\n",
    "from sklearn import preprocessing\n",
    "\n",
    "from sklearn.tree import DecisionTreeClassifier\n",
    "from sklearn.linear_model import LogisticRegression\n",
    "from sklearn.ensemble import RandomForestClassifier\n",
    "from sklearn import svm\n",
    "from sklearn.naive_bayes import MultinomialNB\n",
    "\n",
    "\n",
    "from sklearn.metrics import accuracy_score, classification_report, confusion_matrix"
   ]
  },
  {
   "cell_type": "code",
   "execution_count": 2,
   "metadata": {},
   "outputs": [],
   "source": [
    "# set the path of the data set\n",
    "df1 = pd.read_csv(\"/Users/sachinim/Desktop/TelecommunicationData1.csv\" ,header = None)\n",
    "df1.columns = ['date', 'tweet']\n",
    "df2 = pd.read_csv(\"/Users/sachinim/Desktop/TelecommunicationData2.csv\" ,header = None)\n",
    "df2.columns = ['date', 'tweet']\n",
    "\n",
    "df = df1.append(df2, ignore_index = True)\n"
   ]
  },
  {
   "cell_type": "code",
   "execution_count": 3,
   "metadata": {},
   "outputs": [],
   "source": [
    "df.columns = ['date', 'tweet']"
   ]
  },
  {
   "cell_type": "code",
   "execution_count": 4,
   "metadata": {},
   "outputs": [],
   "source": [
    "df=df.drop_duplicates(subset='tweet', keep=\"last\")"
   ]
  },
  {
   "cell_type": "code",
   "execution_count": 5,
   "metadata": {},
   "outputs": [
    {
     "data": {
      "text/html": [
       "<div>\n",
       "<style scoped>\n",
       "    .dataframe tbody tr th:only-of-type {\n",
       "        vertical-align: middle;\n",
       "    }\n",
       "\n",
       "    .dataframe tbody tr th {\n",
       "        vertical-align: top;\n",
       "    }\n",
       "\n",
       "    .dataframe thead th {\n",
       "        text-align: right;\n",
       "    }\n",
       "</style>\n",
       "<table border=\"1\" class=\"dataframe\">\n",
       "  <thead>\n",
       "    <tr style=\"text-align: right;\">\n",
       "      <th></th>\n",
       "      <th>date</th>\n",
       "      <th>tweet</th>\n",
       "    </tr>\n",
       "  </thead>\n",
       "  <tbody>\n",
       "    <tr>\n",
       "      <th>0</th>\n",
       "      <td>2021-03-14 08:58:42</td>\n",
       "      <td>b'The following peaked during this scene:\\n#Hollywood\\n#screenwriting\\n#dialog\\n#GreatDepression\\n#neckties\\xe2\\x80\\xa6 https://t.co/rVQ8TBNx3o'</td>\n",
       "    </tr>\n",
       "    <tr>\n",
       "      <th>1</th>\n",
       "      <td>2021-03-13 17:45:03</td>\n",
       "      <td>b'How To Keep A #Conversation Going: 10 Ways To Connect And Engage With Anyone, Anywhere - @westfallonline - @Forbes\\xe2\\x80\\xa6 https://t.co/otZU2Pqx9F'</td>\n",
       "    </tr>\n",
       "    <tr>\n",
       "      <th>3</th>\n",
       "      <td>2021-03-12 17:15:27</td>\n",
       "      <td>b'Video link :-  https://t.co/d6DOgxBjew\\n\\n#yaarltech #dialog #offers #SriLanka https://t.co/kGuswiMBZs'</td>\n",
       "    </tr>\n",
       "    <tr>\n",
       "      <th>4</th>\n",
       "      <td>2021-03-12 05:04:04</td>\n",
       "      <td>b'Rajendra Theagarajah appointed Chairman of Digital Reality Pvt Ltd https://t.co/GuCbOsAPqQ \\n\\n#digitalreality\\xe2\\x80\\xa6 https://t.co/0XLdpyNWje'</td>\n",
       "    </tr>\n",
       "    <tr>\n",
       "      <th>5</th>\n",
       "      <td>2021-03-11 22:24:36</td>\n",
       "      <td>b'RT @djangoralph: Album Review: Sicker Man - Dialog (2021, blank records)\\nNoise / Electronica / Krautrock from Berlin, Germany\\nhttps://t.co/\\xe2\\x80\\xa6'</td>\n",
       "    </tr>\n",
       "    <tr>\n",
       "      <th>...</th>\n",
       "      <td>...</td>\n",
       "      <td>...</td>\n",
       "    </tr>\n",
       "    <tr>\n",
       "      <th>3908</th>\n",
       "      <td>2021-03-07 10:17:19</td>\n",
       "      <td>b'@ConsciYashhness @Airtel_Presence Hey! I agree with you when it comes to #airtel customer service their assurances\\xe2\\x80\\xa6 https://t.co/M1qL0kl9SI'</td>\n",
       "    </tr>\n",
       "    <tr>\n",
       "      <th>3909</th>\n",
       "      <td>2021-03-07 10:10:27</td>\n",
       "      <td>b'@gauravcsawant I hope @airtelindia comes around this. Otherwise people who have been so kind to Jio can be equally\\xe2\\x80\\xa6 https://t.co/tD6IdMLHQz'</td>\n",
       "    </tr>\n",
       "    <tr>\n",
       "      <th>3910</th>\n",
       "      <td>2021-03-07 09:46:19</td>\n",
       "      <td>b\"@AirtelNigeria @Airtel_Presence still waiting for my refund it's been more than 48 hours \\xf0\\x9f\\xa4\\xa6\\xe2\\x80\\x8d\\xe2\\x99\\x80\\xef\\xb8\\x8f #airtel #airtelripoff #airtelnigeria\"</td>\n",
       "    </tr>\n",
       "    <tr>\n",
       "      <th>3911</th>\n",
       "      <td>2021-03-07 09:43:59</td>\n",
       "      <td>b'So, is this the final nail in the coffin of #BhartiAirtel?? Is this truly the end of #Airtel?\\n\\nhttps://t.co/AsVS2Hp5S0'</td>\n",
       "    </tr>\n",
       "    <tr>\n",
       "      <th>3912</th>\n",
       "      <td>2021-03-07 09:40:17</td>\n",
       "      <td>b\"@airtelindia @Airtel_Presence\\nDespite of having the data balance in my account I'm unable to use the Internet prope\\xe2\\x80\\xa6 https://t.co/fkDOXqW6wg\"</td>\n",
       "    </tr>\n",
       "  </tbody>\n",
       "</table>\n",
       "<p>2573 rows × 2 columns</p>\n",
       "</div>"
      ],
      "text/plain": [
       "                     date  \\\n",
       "0     2021-03-14 08:58:42   \n",
       "1     2021-03-13 17:45:03   \n",
       "3     2021-03-12 17:15:27   \n",
       "4     2021-03-12 05:04:04   \n",
       "5     2021-03-11 22:24:36   \n",
       "...                   ...   \n",
       "3908  2021-03-07 10:17:19   \n",
       "3909  2021-03-07 10:10:27   \n",
       "3910  2021-03-07 09:46:19   \n",
       "3911  2021-03-07 09:43:59   \n",
       "3912  2021-03-07 09:40:17   \n",
       "\n",
       "                                                                                                                                                                                      tweet  \n",
       "0                                          b'The following peaked during this scene:\\n#Hollywood\\n#screenwriting\\n#dialog\\n#GreatDepression\\n#neckties\\xe2\\x80\\xa6 https://t.co/rVQ8TBNx3o'  \n",
       "1                                 b'How To Keep A #Conversation Going: 10 Ways To Connect And Engage With Anyone, Anywhere - @westfallonline - @Forbes\\xe2\\x80\\xa6 https://t.co/otZU2Pqx9F'  \n",
       "3                                                                                 b'Video link :-  https://t.co/d6DOgxBjew\\n\\n#yaarltech #dialog #offers #SriLanka https://t.co/kGuswiMBZs'  \n",
       "4                                     b'Rajendra Theagarajah appointed Chairman of Digital Reality Pvt Ltd https://t.co/GuCbOsAPqQ \\n\\n#digitalreality\\xe2\\x80\\xa6 https://t.co/0XLdpyNWje'  \n",
       "5                              b'RT @djangoralph: Album Review: Sicker Man - Dialog (2021, blank records)\\nNoise / Electronica / Krautrock from Berlin, Germany\\nhttps://t.co/\\xe2\\x80\\xa6'  \n",
       "...                                                                                                                                                                                     ...  \n",
       "3908                              b'@ConsciYashhness @Airtel_Presence Hey! I agree with you when it comes to #airtel customer service their assurances\\xe2\\x80\\xa6 https://t.co/M1qL0kl9SI'  \n",
       "3909                              b'@gauravcsawant I hope @airtelindia comes around this. Otherwise people who have been so kind to Jio can be equally\\xe2\\x80\\xa6 https://t.co/tD6IdMLHQz'  \n",
       "3910  b\"@AirtelNigeria @Airtel_Presence still waiting for my refund it's been more than 48 hours \\xf0\\x9f\\xa4\\xa6\\xe2\\x80\\x8d\\xe2\\x99\\x80\\xef\\xb8\\x8f #airtel #airtelripoff #airtelnigeria\"  \n",
       "3911                                                            b'So, is this the final nail in the coffin of #BhartiAirtel?? Is this truly the end of #Airtel?\\n\\nhttps://t.co/AsVS2Hp5S0'  \n",
       "3912                            b\"@airtelindia @Airtel_Presence\\nDespite of having the data balance in my account I'm unable to use the Internet prope\\xe2\\x80\\xa6 https://t.co/fkDOXqW6wg\"  \n",
       "\n",
       "[2573 rows x 2 columns]"
      ]
     },
     "execution_count": 5,
     "metadata": {},
     "output_type": "execute_result"
    }
   ],
   "source": [
    "pd.set_option('display.max_colwidth', None)\n",
    "df"
   ]
  },
  {
   "cell_type": "code",
   "execution_count": 6,
   "metadata": {},
   "outputs": [],
   "source": [
    "words = set(nltk.corpus.words.words())"
   ]
  },
  {
   "cell_type": "code",
   "execution_count": 7,
   "metadata": {},
   "outputs": [],
   "source": [
    "def text_lemmatizer(text):\n",
    "  # This function is used to lemmatize the given sentence\n",
    "    lemmatizer =  WordNetLemmatizer ()\n",
    "    token_words = word_tokenize(text)\n",
    "    stem_sentence = []\n",
    "    for word in token_words:\n",
    "        stem_sentence.append(lemmatizer.lemmatize(word))\n",
    "    return \" \".join(stem_sentence)"
   ]
  },
  {
   "cell_type": "code",
   "execution_count": 8,
   "metadata": {},
   "outputs": [],
   "source": [
    "# Remove special characters from the tweet\n",
    "def clean_text(tweet):\n",
    "    \n",
    "    tweet = tweet.lower()\n",
    "    \n",
    "    # have to remove \"b'RT @endaburke81\" at the begining of the tweet\n",
    "    if(tweet[:4]==\"b'rt\"):\n",
    "        tweet = tweet.split(\":\", 1)[1]\n",
    "\n",
    "    # splitting the tweet\n",
    "    tweet = tweet.split()\n",
    "    \n",
    "    # Joining the tweet\n",
    "    tweet = \" \".join(tweet)\n",
    "    \n",
    "    #Removing digits and numbers\n",
    "    tweet = \"\".join([i for i in tweet if not i.isdigit()])\n",
    "    \n",
    "    # Removing special characters from the tweet\n",
    "    tweet = re.sub(f'[{re.escape(string.punctuation)}]', \"\", tweet)\n",
    "    \n",
    "    # cleaning = nltk.tokenize.wordpunct_tokenize(tweet)\n",
    "    tweet = \" \".join(w for w in nltk.wordpunct_tokenize(tweet) if w.lower() in words or not w.isalpha())\n",
    "    \n",
    "    tweet = text_lemmatizer(tweet)\n",
    "    \n",
    "    return tweet"
   ]
  },
  {
   "cell_type": "code",
   "execution_count": 9,
   "metadata": {},
   "outputs": [
    {
     "data": {
      "text/html": [
       "<div>\n",
       "<style scoped>\n",
       "    .dataframe tbody tr th:only-of-type {\n",
       "        vertical-align: middle;\n",
       "    }\n",
       "\n",
       "    .dataframe tbody tr th {\n",
       "        vertical-align: top;\n",
       "    }\n",
       "\n",
       "    .dataframe thead th {\n",
       "        text-align: right;\n",
       "    }\n",
       "</style>\n",
       "<table border=\"1\" class=\"dataframe\">\n",
       "  <thead>\n",
       "    <tr style=\"text-align: right;\">\n",
       "      <th></th>\n",
       "      <th>date</th>\n",
       "      <th>tweet</th>\n",
       "      <th>tweet_clean</th>\n",
       "    </tr>\n",
       "  </thead>\n",
       "  <tbody>\n",
       "    <tr>\n",
       "      <th>0</th>\n",
       "      <td>2021-03-14 08:58:42</td>\n",
       "      <td>b'The following peaked during this scene:\\n#Hollywood\\n#screenwriting\\n#dialog\\n#GreatDepression\\n#neckties\\xe2\\x80\\xa6 https://t.co/rVQ8TBNx3o'</td>\n",
       "      <td>following peaked during this</td>\n",
       "    </tr>\n",
       "    <tr>\n",
       "      <th>1</th>\n",
       "      <td>2021-03-13 17:45:03</td>\n",
       "      <td>b'How To Keep A #Conversation Going: 10 Ways To Connect And Engage With Anyone, Anywhere - @westfallonline - @Forbes\\xe2\\x80\\xa6 https://t.co/otZU2Pqx9F'</td>\n",
       "      <td>to keep a conversation going way to connect and engage with anyone anywhere</td>\n",
       "    </tr>\n",
       "    <tr>\n",
       "      <th>3</th>\n",
       "      <td>2021-03-12 17:15:27</td>\n",
       "      <td>b'Video link :-  https://t.co/d6DOgxBjew\\n\\n#yaarltech #dialog #offers #SriLanka https://t.co/kGuswiMBZs'</td>\n",
       "      <td>link</td>\n",
       "    </tr>\n",
       "    <tr>\n",
       "      <th>4</th>\n",
       "      <td>2021-03-12 05:04:04</td>\n",
       "      <td>b'Rajendra Theagarajah appointed Chairman of Digital Reality Pvt Ltd https://t.co/GuCbOsAPqQ \\n\\n#digitalreality\\xe2\\x80\\xa6 https://t.co/0XLdpyNWje'</td>\n",
       "      <td>chairman of digital reality</td>\n",
       "    </tr>\n",
       "    <tr>\n",
       "      <th>5</th>\n",
       "      <td>2021-03-11 22:24:36</td>\n",
       "      <td>b'RT @djangoralph: Album Review: Sicker Man - Dialog (2021, blank records)\\nNoise / Electronica / Krautrock from Berlin, Germany\\nhttps://t.co/\\xe2\\x80\\xa6'</td>\n",
       "      <td>album review sicker man blank from berlin</td>\n",
       "    </tr>\n",
       "    <tr>\n",
       "      <th>...</th>\n",
       "      <td>...</td>\n",
       "      <td>...</td>\n",
       "      <td>...</td>\n",
       "    </tr>\n",
       "    <tr>\n",
       "      <th>3908</th>\n",
       "      <td>2021-03-07 10:17:19</td>\n",
       "      <td>b'@ConsciYashhness @Airtel_Presence Hey! I agree with you when it comes to #airtel customer service their assurances\\xe2\\x80\\xa6 https://t.co/M1qL0kl9SI'</td>\n",
       "      <td>hey i agree with you when it come to customer service their</td>\n",
       "    </tr>\n",
       "    <tr>\n",
       "      <th>3909</th>\n",
       "      <td>2021-03-07 10:10:27</td>\n",
       "      <td>b'@gauravcsawant I hope @airtelindia comes around this. Otherwise people who have been so kind to Jio can be equally\\xe2\\x80\\xa6 https://t.co/tD6IdMLHQz'</td>\n",
       "      <td>i hope come around this otherwise people who have been so kind to can be</td>\n",
       "    </tr>\n",
       "    <tr>\n",
       "      <th>3910</th>\n",
       "      <td>2021-03-07 09:46:19</td>\n",
       "      <td>b\"@AirtelNigeria @Airtel_Presence still waiting for my refund it's been more than 48 hours \\xf0\\x9f\\xa4\\xa6\\xe2\\x80\\x8d\\xe2\\x99\\x80\\xef\\xb8\\x8f #airtel #airtelripoff #airtelnigeria\"</td>\n",
       "      <td>still waiting for my refund it been more than</td>\n",
       "    </tr>\n",
       "    <tr>\n",
       "      <th>3911</th>\n",
       "      <td>2021-03-07 09:43:59</td>\n",
       "      <td>b'So, is this the final nail in the coffin of #BhartiAirtel?? Is this truly the end of #Airtel?\\n\\nhttps://t.co/AsVS2Hp5S0'</td>\n",
       "      <td>is this the final nail in the coffin of is this truly the end of</td>\n",
       "    </tr>\n",
       "    <tr>\n",
       "      <th>3912</th>\n",
       "      <td>2021-03-07 09:40:17</td>\n",
       "      <td>b\"@airtelindia @Airtel_Presence\\nDespite of having the data balance in my account I'm unable to use the Internet prope\\xe2\\x80\\xa6 https://t.co/fkDOXqW6wg\"</td>\n",
       "      <td>of the data balance in my account unable to use the</td>\n",
       "    </tr>\n",
       "  </tbody>\n",
       "</table>\n",
       "<p>2573 rows × 3 columns</p>\n",
       "</div>"
      ],
      "text/plain": [
       "                     date  \\\n",
       "0     2021-03-14 08:58:42   \n",
       "1     2021-03-13 17:45:03   \n",
       "3     2021-03-12 17:15:27   \n",
       "4     2021-03-12 05:04:04   \n",
       "5     2021-03-11 22:24:36   \n",
       "...                   ...   \n",
       "3908  2021-03-07 10:17:19   \n",
       "3909  2021-03-07 10:10:27   \n",
       "3910  2021-03-07 09:46:19   \n",
       "3911  2021-03-07 09:43:59   \n",
       "3912  2021-03-07 09:40:17   \n",
       "\n",
       "                                                                                                                                                                                      tweet  \\\n",
       "0                                          b'The following peaked during this scene:\\n#Hollywood\\n#screenwriting\\n#dialog\\n#GreatDepression\\n#neckties\\xe2\\x80\\xa6 https://t.co/rVQ8TBNx3o'   \n",
       "1                                 b'How To Keep A #Conversation Going: 10 Ways To Connect And Engage With Anyone, Anywhere - @westfallonline - @Forbes\\xe2\\x80\\xa6 https://t.co/otZU2Pqx9F'   \n",
       "3                                                                                 b'Video link :-  https://t.co/d6DOgxBjew\\n\\n#yaarltech #dialog #offers #SriLanka https://t.co/kGuswiMBZs'   \n",
       "4                                     b'Rajendra Theagarajah appointed Chairman of Digital Reality Pvt Ltd https://t.co/GuCbOsAPqQ \\n\\n#digitalreality\\xe2\\x80\\xa6 https://t.co/0XLdpyNWje'   \n",
       "5                              b'RT @djangoralph: Album Review: Sicker Man - Dialog (2021, blank records)\\nNoise / Electronica / Krautrock from Berlin, Germany\\nhttps://t.co/\\xe2\\x80\\xa6'   \n",
       "...                                                                                                                                                                                     ...   \n",
       "3908                              b'@ConsciYashhness @Airtel_Presence Hey! I agree with you when it comes to #airtel customer service their assurances\\xe2\\x80\\xa6 https://t.co/M1qL0kl9SI'   \n",
       "3909                              b'@gauravcsawant I hope @airtelindia comes around this. Otherwise people who have been so kind to Jio can be equally\\xe2\\x80\\xa6 https://t.co/tD6IdMLHQz'   \n",
       "3910  b\"@AirtelNigeria @Airtel_Presence still waiting for my refund it's been more than 48 hours \\xf0\\x9f\\xa4\\xa6\\xe2\\x80\\x8d\\xe2\\x99\\x80\\xef\\xb8\\x8f #airtel #airtelripoff #airtelnigeria\"   \n",
       "3911                                                            b'So, is this the final nail in the coffin of #BhartiAirtel?? Is this truly the end of #Airtel?\\n\\nhttps://t.co/AsVS2Hp5S0'   \n",
       "3912                            b\"@airtelindia @Airtel_Presence\\nDespite of having the data balance in my account I'm unable to use the Internet prope\\xe2\\x80\\xa6 https://t.co/fkDOXqW6wg\"   \n",
       "\n",
       "                                                                      tweet_clean  \n",
       "0                                                    following peaked during this  \n",
       "1     to keep a conversation going way to connect and engage with anyone anywhere  \n",
       "3                                                                            link  \n",
       "4                                                     chairman of digital reality  \n",
       "5                                       album review sicker man blank from berlin  \n",
       "...                                                                           ...  \n",
       "3908                  hey i agree with you when it come to customer service their  \n",
       "3909     i hope come around this otherwise people who have been so kind to can be  \n",
       "3910                                still waiting for my refund it been more than  \n",
       "3911             is this the final nail in the coffin of is this truly the end of  \n",
       "3912                          of the data balance in my account unable to use the  \n",
       "\n",
       "[2573 rows x 3 columns]"
      ]
     },
     "execution_count": 9,
     "metadata": {},
     "output_type": "execute_result"
    }
   ],
   "source": [
    "df[\"tweet_clean\"] = df[\"tweet\"].apply(clean_text)\n",
    "df"
   ]
  },
  {
   "cell_type": "code",
   "execution_count": 10,
   "metadata": {},
   "outputs": [
    {
     "data": {
      "text/html": [
       "<div>\n",
       "<style scoped>\n",
       "    .dataframe tbody tr th:only-of-type {\n",
       "        vertical-align: middle;\n",
       "    }\n",
       "\n",
       "    .dataframe tbody tr th {\n",
       "        vertical-align: top;\n",
       "    }\n",
       "\n",
       "    .dataframe thead th {\n",
       "        text-align: right;\n",
       "    }\n",
       "</style>\n",
       "<table border=\"1\" class=\"dataframe\">\n",
       "  <thead>\n",
       "    <tr style=\"text-align: right;\">\n",
       "      <th></th>\n",
       "      <th>date</th>\n",
       "      <th>tweet</th>\n",
       "      <th>tweet_clean</th>\n",
       "      <th>sentiment</th>\n",
       "      <th>polarity</th>\n",
       "    </tr>\n",
       "  </thead>\n",
       "  <tbody>\n",
       "    <tr>\n",
       "      <th>0</th>\n",
       "      <td>2021-03-14 08:58:42</td>\n",
       "      <td>b'The following peaked during this scene:\\n#Hollywood\\n#screenwriting\\n#dialog\\n#GreatDepression\\n#neckties\\xe2\\x80\\xa6 https://t.co/rVQ8TBNx3o'</td>\n",
       "      <td>following peaked during this</td>\n",
       "      <td>neutral</td>\n",
       "      <td>0</td>\n",
       "    </tr>\n",
       "    <tr>\n",
       "      <th>1</th>\n",
       "      <td>2021-03-13 17:45:03</td>\n",
       "      <td>b'How To Keep A #Conversation Going: 10 Ways To Connect And Engage With Anyone, Anywhere - @westfallonline - @Forbes\\xe2\\x80\\xa6 https://t.co/otZU2Pqx9F'</td>\n",
       "      <td>to keep a conversation going way to connect and engage with anyone anywhere</td>\n",
       "      <td>neutral</td>\n",
       "      <td>0</td>\n",
       "    </tr>\n",
       "    <tr>\n",
       "      <th>3</th>\n",
       "      <td>2021-03-12 17:15:27</td>\n",
       "      <td>b'Video link :-  https://t.co/d6DOgxBjew\\n\\n#yaarltech #dialog #offers #SriLanka https://t.co/kGuswiMBZs'</td>\n",
       "      <td>link</td>\n",
       "      <td>neutral</td>\n",
       "      <td>0</td>\n",
       "    </tr>\n",
       "    <tr>\n",
       "      <th>4</th>\n",
       "      <td>2021-03-12 05:04:04</td>\n",
       "      <td>b'Rajendra Theagarajah appointed Chairman of Digital Reality Pvt Ltd https://t.co/GuCbOsAPqQ \\n\\n#digitalreality\\xe2\\x80\\xa6 https://t.co/0XLdpyNWje'</td>\n",
       "      <td>chairman of digital reality</td>\n",
       "      <td>neutral</td>\n",
       "      <td>0</td>\n",
       "    </tr>\n",
       "    <tr>\n",
       "      <th>5</th>\n",
       "      <td>2021-03-11 22:24:36</td>\n",
       "      <td>b'RT @djangoralph: Album Review: Sicker Man - Dialog (2021, blank records)\\nNoise / Electronica / Krautrock from Berlin, Germany\\nhttps://t.co/\\xe2\\x80\\xa6'</td>\n",
       "      <td>album review sicker man blank from berlin</td>\n",
       "      <td>negative</td>\n",
       "      <td>-0.2</td>\n",
       "    </tr>\n",
       "  </tbody>\n",
       "</table>\n",
       "</div>"
      ],
      "text/plain": [
       "                  date  \\\n",
       "0  2021-03-14 08:58:42   \n",
       "1  2021-03-13 17:45:03   \n",
       "3  2021-03-12 17:15:27   \n",
       "4  2021-03-12 05:04:04   \n",
       "5  2021-03-11 22:24:36   \n",
       "\n",
       "                                                                                                                                                          tweet  \\\n",
       "0              b'The following peaked during this scene:\\n#Hollywood\\n#screenwriting\\n#dialog\\n#GreatDepression\\n#neckties\\xe2\\x80\\xa6 https://t.co/rVQ8TBNx3o'   \n",
       "1     b'How To Keep A #Conversation Going: 10 Ways To Connect And Engage With Anyone, Anywhere - @westfallonline - @Forbes\\xe2\\x80\\xa6 https://t.co/otZU2Pqx9F'   \n",
       "3                                                     b'Video link :-  https://t.co/d6DOgxBjew\\n\\n#yaarltech #dialog #offers #SriLanka https://t.co/kGuswiMBZs'   \n",
       "4         b'Rajendra Theagarajah appointed Chairman of Digital Reality Pvt Ltd https://t.co/GuCbOsAPqQ \\n\\n#digitalreality\\xe2\\x80\\xa6 https://t.co/0XLdpyNWje'   \n",
       "5  b'RT @djangoralph: Album Review: Sicker Man - Dialog (2021, blank records)\\nNoise / Electronica / Krautrock from Berlin, Germany\\nhttps://t.co/\\xe2\\x80\\xa6'   \n",
       "\n",
       "                                                                   tweet_clean  \\\n",
       "0                                                 following peaked during this   \n",
       "1  to keep a conversation going way to connect and engage with anyone anywhere   \n",
       "3                                                                         link   \n",
       "4                                                  chairman of digital reality   \n",
       "5                                    album review sicker man blank from berlin   \n",
       "\n",
       "  sentiment polarity  \n",
       "0   neutral        0  \n",
       "1   neutral        0  \n",
       "3   neutral        0  \n",
       "4   neutral        0  \n",
       "5  negative     -0.2  "
      ]
     },
     "execution_count": 10,
     "metadata": {},
     "output_type": "execute_result"
    }
   ],
   "source": [
    "# sentiment analysis using polarity\n",
    "\n",
    "df['sentiment'] = ' '\n",
    "df['polarity'] = None\n",
    "for i,tweets in enumerate(df.tweet_clean) :\n",
    "    blob = TextBlob(tweets)\n",
    "    df['polarity'][i] = blob.sentiment.polarity\n",
    "    if blob.sentiment.polarity > 0 :\n",
    "        df['sentiment'][i] = 'positive'\n",
    "    elif blob.sentiment.polarity < 0 :\n",
    "        df['sentiment'][i] = 'negative'\n",
    "    else :\n",
    "        df['sentiment'][i] = 'neutral'\n",
    "df.head()"
   ]
  },
  {
   "cell_type": "code",
   "execution_count": 11,
   "metadata": {},
   "outputs": [
    {
     "data": {
      "text/plain": [
       "(200, 5)"
      ]
     },
     "execution_count": 11,
     "metadata": {},
     "output_type": "execute_result"
    }
   ],
   "source": [
    "df.loc[df['sentiment'] == \"negative\"].shape"
   ]
  },
  {
   "cell_type": "code",
   "execution_count": 12,
   "metadata": {},
   "outputs": [
    {
     "data": {
      "text/plain": [
       "(469, 5)"
      ]
     },
     "execution_count": 12,
     "metadata": {},
     "output_type": "execute_result"
    }
   ],
   "source": [
    "df.loc[df['sentiment'] == \"positive\"].shape"
   ]
  },
  {
   "cell_type": "code",
   "execution_count": 13,
   "metadata": {},
   "outputs": [
    {
     "data": {
      "text/plain": [
       "(837, 5)"
      ]
     },
     "execution_count": 13,
     "metadata": {},
     "output_type": "execute_result"
    }
   ],
   "source": [
    "df.loc[df['sentiment'] == \"neutral\"].shape"
   ]
  },
  {
   "cell_type": "code",
   "execution_count": 14,
   "metadata": {},
   "outputs": [
    {
     "data": {
      "text/html": [
       "<div>\n",
       "<style scoped>\n",
       "    .dataframe tbody tr th:only-of-type {\n",
       "        vertical-align: middle;\n",
       "    }\n",
       "\n",
       "    .dataframe tbody tr th {\n",
       "        vertical-align: top;\n",
       "    }\n",
       "\n",
       "    .dataframe thead th {\n",
       "        text-align: right;\n",
       "    }\n",
       "</style>\n",
       "<table border=\"1\" class=\"dataframe\">\n",
       "  <thead>\n",
       "    <tr style=\"text-align: right;\">\n",
       "      <th></th>\n",
       "      <th>date</th>\n",
       "      <th>tweet</th>\n",
       "      <th>tweet_clean</th>\n",
       "      <th>sentiment</th>\n",
       "      <th>polarity</th>\n",
       "    </tr>\n",
       "  </thead>\n",
       "  <tbody>\n",
       "    <tr>\n",
       "      <th>5</th>\n",
       "      <td>2021-03-11 22:24:36</td>\n",
       "      <td>b'RT @djangoralph: Album Review: Sicker Man - Dialog (2021, blank records)\\nNoise / Electronica / Krautrock from Berlin, Germany\\nhttps://t.co/\\xe2\\x80\\xa6'</td>\n",
       "      <td>album review sicker man blank from berlin</td>\n",
       "      <td>negative</td>\n",
       "      <td>-0.2</td>\n",
       "    </tr>\n",
       "    <tr>\n",
       "      <th>11</th>\n",
       "      <td>2021-03-11 12:56:14</td>\n",
       "      <td>b'Album Review: Sicker Man - Dialog (2021, blank records)\\nNoise / Electronica / Krautrock from Berlin, Germany\\xe2\\x80\\xa6 https://t.co/ynEhYj3yz8'</td>\n",
       "      <td>review sicker man blank from berlin</td>\n",
       "      <td>negative</td>\n",
       "      <td>-0.166667</td>\n",
       "    </tr>\n",
       "    <tr>\n",
       "      <th>48</th>\n",
       "      <td>2021-03-14 12:07:39</td>\n",
       "      <td>b'Best 3GB Per Day Data Plans You Can Avail From Airtel, Reliance Jio And BSNL #Telecom #technologynews \\nhttps://t.co/abALtiTo9C'</td>\n",
       "      <td>per day data you can avail from reliance and</td>\n",
       "      <td>negative</td>\n",
       "      <td>-0.1</td>\n",
       "    </tr>\n",
       "    <tr>\n",
       "      <th>86</th>\n",
       "      <td>2021-03-14 02:47:16</td>\n",
       "      <td>b'#PLDT, #Globe units unveil new business solutions\\n\\n#BeyondFibre @PLDT\\n#CloudConnect @enjoyGlobe\\n\\n#Philippines\\xe2\\x80\\xa6 https://t.co/yxz85LrEoH'</td>\n",
       "      <td>globe unveil new business</td>\n",
       "      <td>negative</td>\n",
       "      <td>-0.005</td>\n",
       "    </tr>\n",
       "    <tr>\n",
       "      <th>194</th>\n",
       "      <td>2021-03-13 10:33:20</td>\n",
       "      <td>b'RT @ETTelecom: Production Linked Incentive scheme in telecom: A \\xe2\\x80\\x98towering\\xe2\\x80\\x99 initiative #PLI #Telecom #IoT #PLIScheme #CPE #Policy  https://t\\xe2\\x80\\xa6'</td>\n",
       "      <td>production linked incentive scheme in a initiative policy</td>\n",
       "      <td>negative</td>\n",
       "      <td>-0.1</td>\n",
       "    </tr>\n",
       "    <tr>\n",
       "      <th>...</th>\n",
       "      <td>...</td>\n",
       "      <td>...</td>\n",
       "      <td>...</td>\n",
       "      <td>...</td>\n",
       "      <td>...</td>\n",
       "    </tr>\n",
       "    <tr>\n",
       "      <th>2530</th>\n",
       "      <td>2021-03-14 19:48:14</td>\n",
       "      <td>b'Advertising experts helping businesses of all kind!\\n#ubaamerica #gtbank #Airtel #mtnghana #businessgrowth\\xe2\\x80\\xa6 https://t.co/WaaCTVdmBD'</td>\n",
       "      <td>helping of all</td>\n",
       "      <td>negative</td>\n",
       "      <td>-0.133333</td>\n",
       "    </tr>\n",
       "    <tr>\n",
       "      <th>2560</th>\n",
       "      <td>2021-03-14 11:33:13</td>\n",
       "      <td>b'Its been 3 months now when i started  complaining  about network,  call dropping and internet  issues. Nothing  has\\xe2\\x80\\xa6 https://t.co/iBLkKNrB2C'</td>\n",
       "      <td>been now when i about network call dropping and nothing</td>\n",
       "      <td>negative</td>\n",
       "      <td>-0.1</td>\n",
       "    </tr>\n",
       "    <tr>\n",
       "      <th>2564</th>\n",
       "      <td>2021-03-14 10:07:30</td>\n",
       "      <td>b'@Airtel_Presence @TRAI airtel broadband not worked with VPN. We are getting Harraas by @Airtel_Presence. No coopera\\xe2\\x80\\xa6 https://t.co/iqG9aebJE9'</td>\n",
       "      <td>not worked with we are getting by no</td>\n",
       "      <td>negative</td>\n",
       "      <td>-0.65</td>\n",
       "    </tr>\n",
       "    <tr>\n",
       "      <th>2566</th>\n",
       "      <td>2021-03-14 09:40:24</td>\n",
       "      <td>b'RT @ShekhawatShiv: AIRTEL service very low last two day call drop problem in jaipur and data problam please shoot out    #AirtelDown #netwo\\xe2\\x80\\xa6'</td>\n",
       "      <td>service very low last two day call drop problem in and data please shoot out</td>\n",
       "      <td>negative</td>\n",
       "      <td>-0.65</td>\n",
       "    </tr>\n",
       "    <tr>\n",
       "      <th>2572</th>\n",
       "      <td>2021-03-14 07:46:48</td>\n",
       "      <td>b'RT @UDITARO07740087: Worst network in uttrakhand@#Airtel@#PM narendra Modi'</td>\n",
       "      <td>worst network in</td>\n",
       "      <td>negative</td>\n",
       "      <td>-0.5</td>\n",
       "    </tr>\n",
       "  </tbody>\n",
       "</table>\n",
       "<p>200 rows × 5 columns</p>\n",
       "</div>"
      ],
      "text/plain": [
       "                     date  \\\n",
       "5     2021-03-11 22:24:36   \n",
       "11    2021-03-11 12:56:14   \n",
       "48    2021-03-14 12:07:39   \n",
       "86    2021-03-14 02:47:16   \n",
       "194   2021-03-13 10:33:20   \n",
       "...                   ...   \n",
       "2530  2021-03-14 19:48:14   \n",
       "2560  2021-03-14 11:33:13   \n",
       "2564  2021-03-14 10:07:30   \n",
       "2566  2021-03-14 09:40:24   \n",
       "2572  2021-03-14 07:46:48   \n",
       "\n",
       "                                                                                                                                                                                 tweet  \\\n",
       "5                         b'RT @djangoralph: Album Review: Sicker Man - Dialog (2021, blank records)\\nNoise / Electronica / Krautrock from Berlin, Germany\\nhttps://t.co/\\xe2\\x80\\xa6'   \n",
       "11                                b'Album Review: Sicker Man - Dialog (2021, blank records)\\nNoise / Electronica / Krautrock from Berlin, Germany\\xe2\\x80\\xa6 https://t.co/ynEhYj3yz8'   \n",
       "48                                                  b'Best 3GB Per Day Data Plans You Can Avail From Airtel, Reliance Jio And BSNL #Telecom #technologynews \\nhttps://t.co/abALtiTo9C'   \n",
       "86                           b'#PLDT, #Globe units unveil new business solutions\\n\\n#BeyondFibre @PLDT\\n#CloudConnect @enjoyGlobe\\n\\n#Philippines\\xe2\\x80\\xa6 https://t.co/yxz85LrEoH'   \n",
       "194   b'RT @ETTelecom: Production Linked Incentive scheme in telecom: A \\xe2\\x80\\x98towering\\xe2\\x80\\x99 initiative #PLI #Telecom #IoT #PLIScheme #CPE #Policy  https://t\\xe2\\x80\\xa6'   \n",
       "...                                                                                                                                                                                ...   \n",
       "2530                                 b'Advertising experts helping businesses of all kind!\\n#ubaamerica #gtbank #Airtel #mtnghana #businessgrowth\\xe2\\x80\\xa6 https://t.co/WaaCTVdmBD'   \n",
       "2560                        b'Its been 3 months now when i started  complaining  about network,  call dropping and internet  issues. Nothing  has\\xe2\\x80\\xa6 https://t.co/iBLkKNrB2C'   \n",
       "2564                        b'@Airtel_Presence @TRAI airtel broadband not worked with VPN. We are getting Harraas by @Airtel_Presence. No coopera\\xe2\\x80\\xa6 https://t.co/iqG9aebJE9'   \n",
       "2566                        b'RT @ShekhawatShiv: AIRTEL service very low last two day call drop problem in jaipur and data problam please shoot out    #AirtelDown #netwo\\xe2\\x80\\xa6'   \n",
       "2572                                                                                                     b'RT @UDITARO07740087: Worst network in uttrakhand@#Airtel@#PM narendra Modi'   \n",
       "\n",
       "                                                                       tweet_clean  \\\n",
       "5                                        album review sicker man blank from berlin   \n",
       "11                                             review sicker man blank from berlin   \n",
       "48                                    per day data you can avail from reliance and   \n",
       "86                                                       globe unveil new business   \n",
       "194                      production linked incentive scheme in a initiative policy   \n",
       "...                                                                            ...   \n",
       "2530                                                                helping of all   \n",
       "2560                       been now when i about network call dropping and nothing   \n",
       "2564                                          not worked with we are getting by no   \n",
       "2566  service very low last two day call drop problem in and data please shoot out   \n",
       "2572                                                              worst network in   \n",
       "\n",
       "     sentiment  polarity  \n",
       "5     negative      -0.2  \n",
       "11    negative -0.166667  \n",
       "48    negative      -0.1  \n",
       "86    negative    -0.005  \n",
       "194   negative      -0.1  \n",
       "...        ...       ...  \n",
       "2530  negative -0.133333  \n",
       "2560  negative      -0.1  \n",
       "2564  negative     -0.65  \n",
       "2566  negative     -0.65  \n",
       "2572  negative      -0.5  \n",
       "\n",
       "[200 rows x 5 columns]"
      ]
     },
     "execution_count": 14,
     "metadata": {},
     "output_type": "execute_result"
    }
   ],
   "source": [
    "df.loc[df['sentiment'] == \"negative\"]"
   ]
  },
  {
   "cell_type": "code",
   "execution_count": 15,
   "metadata": {},
   "outputs": [],
   "source": [
    "#Split the data\n",
    "\n",
    "x_train, x_test, y_train, y_test = train_test_split(df[\"tweet_clean\"], df[\"sentiment\"],test_size=0.2, random_state=0)"
   ]
  },
  {
   "cell_type": "code",
   "execution_count": 16,
   "metadata": {},
   "outputs": [],
   "source": [
    "# Tokenize Words in each tweets (Encoding)\n",
    "# TfidfVectorizer converts text to word frequency vectors\n",
    "\n",
    "tfidf_vectorizer = TfidfVectorizer(tokenizer=word_tokenize, token_pattern=None)\n",
    "tfidf_vectorizer.fit(df[\"tweet_clean\"])\n",
    "x_train_vector = tfidf_vectorizer.transform(x_train)\n",
    "x_test_vector = tfidf_vectorizer.transform(x_test)"
   ]
  },
  {
   "cell_type": "code",
   "execution_count": 17,
   "metadata": {},
   "outputs": [],
   "source": [
    "def evaluate_metrics(y_test, y_hat, model_type,time):\n",
    "    \n",
    "    accuracy = accuracy_score(y_hat, y_test)\n",
    "    print(\"Model Type : \", model_type)\n",
    "    print(\"\\nAccuracy : \", format(accuracy, '.2f'))\n",
    "    print(\"\\nTraining Time : \", format(time, '.2f'), \"s\" )\n",
    "    print(\"\\n\", classification_report(y_hat, y_test))\n",
    "\n",
    "    \n",
    "    plt.figure(figsize=(10,6))\n",
    "    sns.heatmap(confusion_matrix(y_hat, y_test), annot=True, fmt=\".2f\")\n",
    "    plt.show()\n",
    "    return accuracy"
   ]
  },
  {
   "cell_type": "code",
   "execution_count": 18,
   "metadata": {},
   "outputs": [],
   "source": [
    "# Maximum Entropy (Logistic Regression Algorithm)\n",
    "\n",
    "logisticR_model = LogisticRegression()\n",
    "logisticR_start = time.time()\n",
    "logisticR_model.fit(x_train_vector, y_train)\n",
    "logisticR_stop = time.time()\n",
    "logisticR_time = (logisticR_stop - logisticR_start)\n",
    "logisticR_preds = logisticR_model.predict(x_test_vector)"
   ]
  },
  {
   "cell_type": "code",
   "execution_count": 19,
   "metadata": {},
   "outputs": [
    {
     "name": "stdout",
     "output_type": "stream",
     "text": [
      "Model Type :  Logistic Regression Classifier\n",
      "\n",
      "Accuracy :  0.66\n",
      "\n",
      "Training Time :  0.21 s\n",
      "\n",
      "               precision    recall  f1-score   support\n",
      "\n",
      "                   0.78      0.92      0.84       226\n",
      "    negative       0.00      0.00      0.00        30\n",
      "     neutral       0.57      0.72      0.63       172\n",
      "    positive       0.29      0.09      0.14        87\n",
      "\n",
      "    accuracy                           0.66       515\n",
      "   macro avg       0.41      0.43      0.40       515\n",
      "weighted avg       0.58      0.66      0.60       515\n",
      "\n"
     ]
    },
    {
     "data": {
      "image/png": "[encoded data removed]",
      "text/plain": [
       "<Figure size 720x432 with 2 Axes>"
      ]
     },
     "metadata": {
      "needs_background": "light"
     },
     "output_type": "display_data"
    }
   ],
   "source": [
    "logisticR_accuracy = evaluate_metrics(logisticR_preds, y_test, \"Logistic Regression Classifier\", logisticR_time)"
   ]
  },
  {
   "cell_type": "code",
   "execution_count": 20,
   "metadata": {},
   "outputs": [],
   "source": [
    "# Random Forest Algorithm\n",
    "\n",
    "RandomForest_model = RandomForestClassifier()\n",
    "RandomForest_start = time.time()\n",
    "RandomForest_model.fit(x_train_vector, y_train)\n",
    "RandomForest_stop = time.time()\n",
    "RandomForest_time = (RandomForest_stop - RandomForest_start)\n",
    "RandomForest_preds = RandomForest_model.predict(x_test_vector)"
   ]
  },
  {
   "cell_type": "code",
   "execution_count": 21,
   "metadata": {},
   "outputs": [
    {
     "name": "stdout",
     "output_type": "stream",
     "text": [
      "Model Type :  Random Forest Classifier\n",
      "\n",
      "Accuracy :  0.63\n",
      "\n",
      "Training Time :  1.68 s\n",
      "\n",
      "               precision    recall  f1-score   support\n",
      "\n",
      "                   0.80      0.91      0.85       226\n",
      "    negative       0.05      0.03      0.04        30\n",
      "     neutral       0.54      0.64      0.58       172\n",
      "    positive       0.22      0.08      0.12        87\n",
      "\n",
      "    accuracy                           0.63       515\n",
      "   macro avg       0.40      0.42      0.40       515\n",
      "weighted avg       0.57      0.63      0.59       515\n",
      "\n"
     ]
    },
    {
     "data": {
      "image/png": "[encoded data removed]",
      "text/plain": [
       "<Figure size 720x432 with 2 Axes>"
      ]
     },
     "metadata": {
      "needs_background": "light"
     },
     "output_type": "display_data"
    }
   ],
   "source": [
    "RandomForest_accuracy = evaluate_metrics(RandomForest_preds, y_test, \"Random Forest Classifier\", RandomForest_time)"
   ]
  },
  {
   "cell_type": "code",
   "execution_count": 22,
   "metadata": {},
   "outputs": [],
   "source": [
    "# Decision Tree Algorithm\n",
    "\n",
    "DecisionTree_model = DecisionTreeClassifier(max_depth=20,random_state=0)\n",
    "DecisionTree_start = time.time()\n",
    "DecisionTree_model.fit(x_train_vector, y_train)\n",
    "DecisionTree_stop = time.time()\n",
    "DecisionTree_time = (DecisionTree_stop - DecisionTree_start)\n",
    "DecisionTree_pred = DecisionTree_model.predict(x_test_vector)"
   ]
  },
  {
   "cell_type": "code",
   "execution_count": 23,
   "metadata": {},
   "outputs": [
    {
     "name": "stdout",
     "output_type": "stream",
     "text": [
      "Model Type :  DecisionTree Classifier\n",
      "\n",
      "Accuracy :  0.53\n",
      "\n",
      "Training Time :  0.05 s\n",
      "\n",
      "               precision    recall  f1-score   support\n",
      "\n",
      "                   0.67      0.76      0.71       226\n",
      "    negative       0.06      0.03      0.04        30\n",
      "     neutral       0.47      0.56      0.51       172\n",
      "    positive       0.14      0.06      0.08        87\n",
      "\n",
      "    accuracy                           0.53       515\n",
      "   macro avg       0.33      0.35      0.34       515\n",
      "weighted avg       0.48      0.53      0.50       515\n",
      "\n"
     ]
    },
    {
     "data": {
      "image/png": "[encoded data removed]",
      "text/plain": [
       "<Figure size 720x432 with 2 Axes>"
      ]
     },
     "metadata": {
      "needs_background": "light"
     },
     "output_type": "display_data"
    }
   ],
   "source": [
    "DecisionTree_accuracy = evaluate_metrics(DecisionTree_pred, y_test, \"DecisionTree Classifier\", DecisionTree_time)"
   ]
  },
  {
   "cell_type": "code",
   "execution_count": 24,
   "metadata": {},
   "outputs": [],
   "source": [
    "# Support Vector Machine Algorithm (Linear SVC classifier)\n",
    "\n",
    "svm_model = svm.SVC(kernel='linear')\n",
    "svm_start = time.time()\n",
    "svm_model.fit(x_train_vector, y_train)\n",
    "svm_stop = time.time()\n",
    "svm_time = (svm_stop - svm_start)\n",
    "svm_preds = svm_model.predict(x_test_vector)"
   ]
  },
  {
   "cell_type": "code",
   "execution_count": 25,
   "metadata": {},
   "outputs": [
    {
     "name": "stdout",
     "output_type": "stream",
     "text": [
      "Model Type :  Support Vector Machine\n",
      "\n",
      "Accuracy :  0.67\n",
      "\n",
      "Training Time :  0.42 s\n",
      "\n",
      "               precision    recall  f1-score   support\n",
      "\n",
      "                   0.82      0.91      0.86       226\n",
      "    negative       0.00      0.00      0.00        30\n",
      "     neutral       0.57      0.77      0.66       172\n",
      "    positive       0.27      0.09      0.14        87\n",
      "\n",
      "    accuracy                           0.67       515\n",
      "   macro avg       0.41      0.44      0.41       515\n",
      "weighted avg       0.60      0.67      0.62       515\n",
      "\n"
     ]
    },
    {
     "data": {
      "image/png": "[encoded data removed]",
      "text/plain": [
       "<Figure size 720x432 with 2 Axes>"
      ]
     },
     "metadata": {
      "needs_background": "light"
     },
     "output_type": "display_data"
    }
   ],
   "source": [
    "svm_accuracy = evaluate_metrics(svm_preds, y_test, \"Support Vector Machine\", svm_time)"
   ]
  },
  {
   "cell_type": "code",
   "execution_count": 26,
   "metadata": {},
   "outputs": [],
   "source": [
    "# Multinomial Naive Bayes Algorithm\n",
    "\n",
    "MultinomialNB_model = MultinomialNB()\n",
    "MultinomialNB_start = time.time()\n",
    "MultinomialNB_model.fit(x_train_vector, y_train)\n",
    "MultinomialNB_stop = time.time()\n",
    "MultinomialNB_time = (MultinomialNB_stop - MultinomialNB_start)\n",
    "MultinomialNB_preds = MultinomialNB_model.predict(x_test_vector)"
   ]
  },
  {
   "cell_type": "code",
   "execution_count": 27,
   "metadata": {},
   "outputs": [
    {
     "name": "stdout",
     "output_type": "stream",
     "text": [
      "Model Type :  Multinomial NB Classifier\n",
      "\n",
      "Accuracy :  0.65\n",
      "\n",
      "Training Time :  0.01 s\n",
      "\n",
      "               precision    recall  f1-score   support\n",
      "\n",
      "                   0.70      0.96      0.81       226\n",
      "    negative       0.00      0.00      0.00        30\n",
      "     neutral       0.58      0.69      0.63       172\n",
      "    positive       0.40      0.02      0.04        87\n",
      "\n",
      "    accuracy                           0.65       515\n",
      "   macro avg       0.42      0.42      0.37       515\n",
      "weighted avg       0.57      0.65      0.57       515\n",
      "\n"
     ]
    },
    {
     "name": "stderr",
     "output_type": "stream",
     "text": [
      "/Users/sachinim/opt/anaconda3/lib/python3.8/site-packages/sklearn/metrics/_classification.py:1221: UndefinedMetricWarning: Precision and F-score are ill-defined and being set to 0.0 in labels with no predicted samples. Use `zero_division` parameter to control this behavior.\n",
      "  _warn_prf(average, modifier, msg_start, len(result))\n"
     ]
    },
    {
     "data": {
      "image/png": "[encoded data removed]",
      "text/plain": [
       "<Figure size 720x432 with 2 Axes>"
      ]
     },
     "metadata": {
      "needs_background": "light"
     },
     "output_type": "display_data"
    }
   ],
   "source": [
    "MultinomialNB_accuracy = evaluate_metrics(MultinomialNB_preds, y_test, \"Multinomial NB Classifier\", MultinomialNB_time)"
   ]
  },
  {
   "cell_type": "code",
   "execution_count": 28,
   "metadata": {},
   "outputs": [
    {
     "data": {
      "image/png": "[encoded data removed]",
      "text/plain": [
       "<Figure size 432x288 with 1 Axes>"
      ]
     },
     "metadata": {
      "needs_background": "light"
     },
     "output_type": "display_data"
    }
   ],
   "source": [
    "# Graph view of Accuracy\n",
    "\n",
    "x = [\"SVM\",\"Logistic Regression\",\"Random Forest\", \"DecisionTree Classifier\", \"Multinomial NB\"]\n",
    "y = [svm_accuracy,logisticR_accuracy,RandomForest_accuracy,DecisionTree_accuracy, MultinomialNB_accuracy]\n",
    "\n",
    "plt.bar(x=x, height=y)\n",
    "plt.title(\"Algorithms Accuracy\")\n",
    "plt.ylabel(\"Accuracy\")\n",
    "plt.xticks(rotation=15)\n",
    "plt.xlabel(\"Algorithm Model\")\n",
    "\n",
    "plt.show()"
   ]
  },
  {
   "cell_type": "code",
   "execution_count": 29,
   "metadata": {},
   "outputs": [],
   "source": [
    "import pickle"
   ]
  },
  {
   "cell_type": "code",
   "execution_count": 30,
   "metadata": {},
   "outputs": [],
   "source": [
    "#save tfidf\n",
    "with open(\"tfidf.pkl\", 'wb') as file:\n",
    "    pickle.dump(tfidf_vectorizer, file)"
   ]
  },
  {
   "cell_type": "code",
   "execution_count": 31,
   "metadata": {},
   "outputs": [],
   "source": [
    "#save model\n",
    "with open(\"model.pkl\", 'wb') as file:\n",
    "    pickle.dump(svm_model, file)"
   ]
  },
  {
   "cell_type": "code",
   "execution_count": 32,
   "metadata": {},
   "outputs": [],
   "source": [
    "########### Load and get Predictions - Should goes to the backend \n",
    "\n",
    "with open(\"model.pkl\", 'rb') as file:\n",
    "    model = pickle.load(file)\n",
    "    \n",
    "with open(\"tfidf.pkl\", 'rb') as file:\n",
    "    tfidf = pickle.load(file)"
   ]
  },
  {
   "cell_type": "code",
   "execution_count": null,
   "metadata": {},
   "outputs": [],
   "source": []
  }
 ],
 "metadata": {
  "kernelspec": {
   "display_name": "Python 3",
   "language": "python",
   "name": "python3"
  },
  "language_info": {
   "codemirror_mode": {
    "name": "ipython",
    "version": 3
   },
   "file_extension": ".py",
   "mimetype": "text/x-python",
   "name": "python",
   "nbconvert_exporter": "python",
   "pygments_lexer": "ipython3",
   "version": "3.8.5"
  }
 },
 "nbformat": 4,
 "nbformat_minor": 4
}
