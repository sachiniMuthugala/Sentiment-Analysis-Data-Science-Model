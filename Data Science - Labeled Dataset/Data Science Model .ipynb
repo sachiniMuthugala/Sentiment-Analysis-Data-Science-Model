{
 "cells": [
  {
   "cell_type": "code",
   "execution_count": 1,
   "metadata": {},
   "outputs": [],
   "source": [
    "import csv\n",
    "import tweepy\n",
    "import pandas as pd\n",
    "import re\n",
    "import string\n",
    "import nltk\n",
    "import time\n",
    "from nltk.corpus import words\n",
    "from textblob import TextBlob\n",
    "import pickle\n",
    "\n",
    "import seaborn as sns\n",
    "import matplotlib.pyplot as plt\n",
    "\n",
    "from nltk.tokenize import word_tokenize\n",
    "from nltk.stem import WordNetLemmatizer\n",
    "\n",
    "from sklearn.model_selection import train_test_split\n",
    "from sklearn.feature_extraction.text import TfidfVectorizer, CountVectorizer,TfidfTransformer\n",
    "from sklearn import preprocessing\n",
    "\n",
    "from sklearn.tree import DecisionTreeClassifier\n",
    "from sklearn.linear_model import LogisticRegression\n",
    "from sklearn.ensemble import RandomForestClassifier\n",
    "from sklearn import svm\n",
    "from sklearn.naive_bayes import MultinomialNB\n",
    "\n",
    "\n",
    "from sklearn.metrics import accuracy_score, classification_report, confusion_matrix"
   ]
  },
  {
   "cell_type": "code",
   "execution_count": 2,
   "metadata": {},
   "outputs": [
    {
     "data": {
      "text/plain": [
       "(869, 4)"
      ]
     },
     "execution_count": 2,
     "metadata": {},
     "output_type": "execute_result"
    }
   ],
   "source": [
    "# Read the data from the file\n",
    "df = pd.read_csv(\"/Users/sachinim/Documents/SDGP/Data Science Model/Twylist Telecom Dataset.csv\" )\n",
    "\n",
    "#dataset count\n",
    "df.shape"
   ]
  },
  {
   "cell_type": "code",
   "execution_count": 3,
   "metadata": {},
   "outputs": [],
   "source": [
    "#Removing duplicate data\n",
    "df = df.drop_duplicates(subset=None, keep='first', inplace=False)"
   ]
  },
  {
   "cell_type": "code",
   "execution_count": 4,
   "metadata": {},
   "outputs": [
    {
     "data": {
      "text/html": [
       "<div>\n",
       "<style scoped>\n",
       "    .dataframe tbody tr th:only-of-type {\n",
       "        vertical-align: middle;\n",
       "    }\n",
       "\n",
       "    .dataframe tbody tr th {\n",
       "        vertical-align: top;\n",
       "    }\n",
       "\n",
       "    .dataframe thead th {\n",
       "        text-align: right;\n",
       "    }\n",
       "</style>\n",
       "<table border=\"1\" class=\"dataframe\">\n",
       "  <thead>\n",
       "    <tr style=\"text-align: right;\">\n",
       "      <th></th>\n",
       "      <th>Unnamed: 0</th>\n",
       "      <th>Category</th>\n",
       "      <th>Label</th>\n",
       "      <th>text</th>\n",
       "    </tr>\n",
       "  </thead>\n",
       "  <tbody>\n",
       "    <tr>\n",
       "      <th>0</th>\n",
       "      <td>0</td>\n",
       "      <td>Poor service</td>\n",
       "      <td>4</td>\n",
       "      <td>@VZWSupport Give me a working phone without ha...</td>\n",
       "    </tr>\n",
       "    <tr>\n",
       "      <th>1</th>\n",
       "      <td>1</td>\n",
       "      <td>Poor service</td>\n",
       "      <td>4</td>\n",
       "      <td>@verizon, my daughter and I both have #Verizon...</td>\n",
       "    </tr>\n",
       "    <tr>\n",
       "      <th>2</th>\n",
       "      <td>2</td>\n",
       "      <td>Poor service</td>\n",
       "      <td>4</td>\n",
       "      <td>Verizon  customer service is the worst. I drea...</td>\n",
       "    </tr>\n",
       "    <tr>\n",
       "      <th>3</th>\n",
       "      <td>3</td>\n",
       "      <td>Happy Customer</td>\n",
       "      <td>2</td>\n",
       "      <td>I love having Verizon. I get service just abou...</td>\n",
       "    </tr>\n",
       "    <tr>\n",
       "      <th>4</th>\n",
       "      <td>4</td>\n",
       "      <td>Happy Customer</td>\n",
       "      <td>2</td>\n",
       "      <td>Great service from @VZWSupport and @SamsungSup...</td>\n",
       "    </tr>\n",
       "    <tr>\n",
       "      <th>...</th>\n",
       "      <td>...</td>\n",
       "      <td>...</td>\n",
       "      <td>...</td>\n",
       "      <td>...</td>\n",
       "    </tr>\n",
       "    <tr>\n",
       "      <th>864</th>\n",
       "      <td>864</td>\n",
       "      <td>Poor service</td>\n",
       "      <td>4</td>\n",
       "      <td>@verizon this is the second time the whole “cu...</td>\n",
       "    </tr>\n",
       "    <tr>\n",
       "      <th>865</th>\n",
       "      <td>865</td>\n",
       "      <td>Higher Price</td>\n",
       "      <td>3</td>\n",
       "      <td>@VZWNow as if my part of 3 people on my bill i...</td>\n",
       "    </tr>\n",
       "    <tr>\n",
       "      <th>866</th>\n",
       "      <td>866</td>\n",
       "      <td>Higher Price</td>\n",
       "      <td>3</td>\n",
       "      <td>@Ask_Spectrum I can call 2 days in a row and g...</td>\n",
       "    </tr>\n",
       "    <tr>\n",
       "      <th>867</th>\n",
       "      <td>867</td>\n",
       "      <td>Poor service</td>\n",
       "      <td>4</td>\n",
       "      <td>@verizon You don't have the best network. @TMo...</td>\n",
       "    </tr>\n",
       "    <tr>\n",
       "      <th>868</th>\n",
       "      <td>868</td>\n",
       "      <td>Happy Customer</td>\n",
       "      <td>2</td>\n",
       "      <td>@VZWNow @BatesSherrod You obviously get what y...</td>\n",
       "    </tr>\n",
       "  </tbody>\n",
       "</table>\n",
       "<p>869 rows × 4 columns</p>\n",
       "</div>"
      ],
      "text/plain": [
       "     Unnamed: 0        Category  Label  \\\n",
       "0             0    Poor service      4   \n",
       "1             1    Poor service      4   \n",
       "2             2    Poor service      4   \n",
       "3             3  Happy Customer      2   \n",
       "4             4  Happy Customer      2   \n",
       "..          ...             ...    ...   \n",
       "864         864    Poor service      4   \n",
       "865         865    Higher Price      3   \n",
       "866         866    Higher Price      3   \n",
       "867         867    Poor service      4   \n",
       "868         868  Happy Customer      2   \n",
       "\n",
       "                                                  text  \n",
       "0    @VZWSupport Give me a working phone without ha...  \n",
       "1    @verizon, my daughter and I both have #Verizon...  \n",
       "2    Verizon  customer service is the worst. I drea...  \n",
       "3    I love having Verizon. I get service just abou...  \n",
       "4    Great service from @VZWSupport and @SamsungSup...  \n",
       "..                                                 ...  \n",
       "864  @verizon this is the second time the whole “cu...  \n",
       "865  @VZWNow as if my part of 3 people on my bill i...  \n",
       "866  @Ask_Spectrum I can call 2 days in a row and g...  \n",
       "867  @verizon You don't have the best network. @TMo...  \n",
       "868  @VZWNow @BatesSherrod You obviously get what y...  \n",
       "\n",
       "[869 rows x 4 columns]"
      ]
     },
     "execution_count": 4,
     "metadata": {},
     "output_type": "execute_result"
    }
   ],
   "source": [
    "df"
   ]
  },
  {
   "cell_type": "code",
   "execution_count": 5,
   "metadata": {},
   "outputs": [
    {
     "name": "stderr",
     "output_type": "stream",
     "text": [
      "<ipython-input-5-9bb58610efcc>:13: SettingWithCopyWarning: \n",
      "A value is trying to be set on a copy of a slice from a DataFrame\n",
      "\n",
      "See the caveats in the documentation: https://pandas.pydata.org/pandas-docs/stable/user_guide/indexing.html#returning-a-view-versus-a-copy\n",
      "  df['sentiment'][i] = 'negative'\n",
      "<ipython-input-5-9bb58610efcc>:9: SettingWithCopyWarning: \n",
      "A value is trying to be set on a copy of a slice from a DataFrame\n",
      "\n",
      "See the caveats in the documentation: https://pandas.pydata.org/pandas-docs/stable/user_guide/indexing.html#returning-a-view-versus-a-copy\n",
      "  df['sentiment'][i] = 'positive'\n",
      "<ipython-input-5-9bb58610efcc>:11: SettingWithCopyWarning: \n",
      "A value is trying to be set on a copy of a slice from a DataFrame\n",
      "\n",
      "See the caveats in the documentation: https://pandas.pydata.org/pandas-docs/stable/user_guide/indexing.html#returning-a-view-versus-a-copy\n",
      "  df['sentiment'][i] = 'neutral'\n"
     ]
    },
    {
     "data": {
      "text/html": [
       "<div>\n",
       "<style scoped>\n",
       "    .dataframe tbody tr th:only-of-type {\n",
       "        vertical-align: middle;\n",
       "    }\n",
       "\n",
       "    .dataframe tbody tr th {\n",
       "        vertical-align: top;\n",
       "    }\n",
       "\n",
       "    .dataframe thead th {\n",
       "        text-align: right;\n",
       "    }\n",
       "</style>\n",
       "<table border=\"1\" class=\"dataframe\">\n",
       "  <thead>\n",
       "    <tr style=\"text-align: right;\">\n",
       "      <th></th>\n",
       "      <th>Unnamed: 0</th>\n",
       "      <th>Category</th>\n",
       "      <th>Label</th>\n",
       "      <th>text</th>\n",
       "      <th>sentiment</th>\n",
       "    </tr>\n",
       "  </thead>\n",
       "  <tbody>\n",
       "    <tr>\n",
       "      <th>0</th>\n",
       "      <td>0</td>\n",
       "      <td>Poor service</td>\n",
       "      <td>4</td>\n",
       "      <td>@VZWSupport Give me a working phone without ha...</td>\n",
       "      <td>negative</td>\n",
       "    </tr>\n",
       "    <tr>\n",
       "      <th>1</th>\n",
       "      <td>1</td>\n",
       "      <td>Poor service</td>\n",
       "      <td>4</td>\n",
       "      <td>@verizon, my daughter and I both have #Verizon...</td>\n",
       "      <td>negative</td>\n",
       "    </tr>\n",
       "    <tr>\n",
       "      <th>2</th>\n",
       "      <td>2</td>\n",
       "      <td>Poor service</td>\n",
       "      <td>4</td>\n",
       "      <td>Verizon  customer service is the worst. I drea...</td>\n",
       "      <td>negative</td>\n",
       "    </tr>\n",
       "    <tr>\n",
       "      <th>3</th>\n",
       "      <td>3</td>\n",
       "      <td>Happy Customer</td>\n",
       "      <td>2</td>\n",
       "      <td>I love having Verizon. I get service just abou...</td>\n",
       "      <td>positive</td>\n",
       "    </tr>\n",
       "    <tr>\n",
       "      <th>4</th>\n",
       "      <td>4</td>\n",
       "      <td>Happy Customer</td>\n",
       "      <td>2</td>\n",
       "      <td>Great service from @VZWSupport and @SamsungSup...</td>\n",
       "      <td>positive</td>\n",
       "    </tr>\n",
       "  </tbody>\n",
       "</table>\n",
       "</div>"
      ],
      "text/plain": [
       "   Unnamed: 0        Category  Label  \\\n",
       "0           0    Poor service      4   \n",
       "1           1    Poor service      4   \n",
       "2           2    Poor service      4   \n",
       "3           3  Happy Customer      2   \n",
       "4           4  Happy Customer      2   \n",
       "\n",
       "                                                text sentiment  \n",
       "0  @VZWSupport Give me a working phone without ha...  negative  \n",
       "1  @verizon, my daughter and I both have #Verizon...  negative  \n",
       "2  Verizon  customer service is the worst. I drea...  negative  \n",
       "3  I love having Verizon. I get service just abou...  positive  \n",
       "4  Great service from @VZWSupport and @SamsungSup...  positive  "
      ]
     },
     "execution_count": 5,
     "metadata": {},
     "output_type": "execute_result"
    }
   ],
   "source": [
    "#This data set categorize for 4 types\n",
    "# Happy Customer --> Positive\n",
    "# Potential New Customer --> Neutral\n",
    "# Lost Customer, Poor Service --> Negative\n",
    "\n",
    "df['sentiment'] = ' '\n",
    "for i,cat in enumerate(df.Category) :\n",
    "    if cat=='Happy Customer' :\n",
    "        df['sentiment'][i] = 'positive'\n",
    "    elif cat=='Potential New Customer' :\n",
    "        df['sentiment'][i] = 'neutral'\n",
    "    else :\n",
    "        df['sentiment'][i] = 'negative'\n",
    "df.head()"
   ]
  },
  {
   "cell_type": "code",
   "execution_count": 6,
   "metadata": {},
   "outputs": [],
   "source": [
    "words = set(nltk.corpus.words.words())"
   ]
  },
  {
   "cell_type": "code",
   "execution_count": 7,
   "metadata": {},
   "outputs": [],
   "source": [
    "def text_lemmatizer(text):\n",
    "  # This function is used to lemmatize the given sentence\n",
    "    lemmatizer =  WordNetLemmatizer ()\n",
    "    token_words = word_tokenize(text)\n",
    "    stem_sentence = []\n",
    "    for word in token_words:\n",
    "        stem_sentence.append(lemmatizer.lemmatize(word))\n",
    "    return \" \".join(stem_sentence)"
   ]
  },
  {
   "cell_type": "code",
   "execution_count": 8,
   "metadata": {},
   "outputs": [],
   "source": [
    "# Remove special characters from the tweet\n",
    "def clean_text(tweet):\n",
    "    \n",
    "    tweet = tweet.lower()\n",
    "    \n",
    "    # have to remove \"b'RT @endaburke81\" at the begining of the tweet\n",
    "    if(tweet[:4]==\"b'rt\"):\n",
    "        tweet = tweet.split(\":\", 1)[1]\n",
    "\n",
    "    # splitting the tweet\n",
    "    tweet = tweet.split()\n",
    "    \n",
    "    # Joining the tweet\n",
    "    tweet = \" \".join(tweet)\n",
    "    \n",
    "    #Removing digits and numbers\n",
    "    tweet = \"\".join([i for i in tweet if not i.isdigit()])\n",
    "    \n",
    "    # Removing special characters from the tweet\n",
    "    tweet = re.sub(f'[{re.escape(string.punctuation)}]', \"\", tweet)\n",
    "    \n",
    "    # cleaning = nltk.tokenize.wordpunct_tokenize(tweet)\n",
    "    tweet = \" \".join(w for w in nltk.wordpunct_tokenize(tweet) if w.lower() in words or not w.isalpha())\n",
    "    \n",
    "    tweet = text_lemmatizer(tweet)\n",
    "    \n",
    "    return tweet"
   ]
  },
  {
   "cell_type": "code",
   "execution_count": 9,
   "metadata": {},
   "outputs": [],
   "source": [
    "#apply method of cleaning text\n",
    "df[\"tweet_clean\"] = df[\"text\"].apply(clean_text)"
   ]
  },
  {
   "cell_type": "code",
   "execution_count": 10,
   "metadata": {},
   "outputs": [
    {
     "data": {
      "text/plain": [
       "(632, 6)"
      ]
     },
     "execution_count": 10,
     "metadata": {},
     "output_type": "execute_result"
    }
   ],
   "source": [
    "# number of negative data = 632\n",
    "df.loc[df['sentiment'] == \"negative\"].shape"
   ]
  },
  {
   "cell_type": "code",
   "execution_count": 11,
   "metadata": {},
   "outputs": [
    {
     "data": {
      "text/plain": [
       "(136, 6)"
      ]
     },
     "execution_count": 11,
     "metadata": {},
     "output_type": "execute_result"
    }
   ],
   "source": [
    "# number of positive data = 136\n",
    "df.loc[df['sentiment'] == \"positive\"].shape"
   ]
  },
  {
   "cell_type": "code",
   "execution_count": 12,
   "metadata": {},
   "outputs": [
    {
     "data": {
      "text/plain": [
       "(101, 6)"
      ]
     },
     "execution_count": 12,
     "metadata": {},
     "output_type": "execute_result"
    }
   ],
   "source": [
    "# number of neutral data = 101\n",
    "df.loc[df['sentiment'] == \"neutral\"].shape"
   ]
  },
  {
   "cell_type": "code",
   "execution_count": 13,
   "metadata": {},
   "outputs": [],
   "source": [
    "# split the data set\n",
    "# 20% test, 80% train\n",
    "x_train, x_test, y_train, y_test = train_test_split(df[\"tweet_clean\"], df[\"sentiment\"],test_size=0.2, random_state=123)"
   ]
  },
  {
   "cell_type": "code",
   "execution_count": 14,
   "metadata": {},
   "outputs": [],
   "source": [
    "# Tokenize Words in each tweets (Encoding)\n",
    "# TfidfVectorizer converts text to word frequency vectors\n",
    "\n",
    "tfidf_vectorizer = TfidfVectorizer(tokenizer=word_tokenize, token_pattern=None)\n",
    "tfidf_vectorizer.fit(df[\"tweet_clean\"])\n",
    "x_train_vector = tfidf_vectorizer.transform(x_train)\n",
    "x_test_vector = tfidf_vectorizer.transform(x_test)"
   ]
  },
  {
   "cell_type": "code",
   "execution_count": 15,
   "metadata": {},
   "outputs": [],
   "source": [
    "def evaluate_metrics(y_test, y_hat, model_type,time):\n",
    "    \n",
    "    accuracy = accuracy_score(y_hat, y_test)\n",
    "    \n",
    "    # Type of Algorithm\n",
    "    print(\"Model Type : \", model_type)\n",
    "    \n",
    "    # Accuracy level\n",
    "    print(\"\\nAccuracy : \", format(accuracy, '.2f'))\n",
    "    \n",
    "    # Timing\n",
    "    print(\"\\nTraining Time : \", format(time, '.2f'), \"s\" )\n",
    "    \n",
    "    # Report Of Classification\n",
    "    print(\"\\n\", classification_report(y_hat, y_test))\n",
    "\n",
    "    # Creating Heat Map\n",
    "    plt.figure(figsize=(10,6))\n",
    "    sns.heatmap(confusion_matrix(y_hat, y_test), annot=True, fmt=\".2f\")\n",
    "    plt.show()\n",
    "    return accuracy"
   ]
  },
  {
   "cell_type": "code",
   "execution_count": 16,
   "metadata": {},
   "outputs": [],
   "source": [
    "# Maximum Entropy (Logistic Regression Algorithm)\n",
    "\n",
    "logisticR_model = LogisticRegression()\n",
    "logisticR_start = time.time()\n",
    "logisticR_model.fit(x_train_vector, y_train)\n",
    "logisticR_stop = time.time()\n",
    "logisticR_time = (logisticR_stop - logisticR_start)\n",
    "logisticR_preds = logisticR_model.predict(x_test_vector)"
   ]
  },
  {
   "cell_type": "code",
   "execution_count": 17,
   "metadata": {},
   "outputs": [
    {
     "name": "stdout",
     "output_type": "stream",
     "text": [
      "Model Type :  Logistic Regression Classifier\n",
      "\n",
      "Accuracy :  0.74\n",
      "\n",
      "Training Time :  0.06 s\n",
      "\n",
      "               precision    recall  f1-score   support\n",
      "\n",
      "    negative       0.73      0.98      0.84       124\n",
      "     neutral       0.33      0.06      0.10        17\n",
      "    positive       1.00      0.15      0.26        33\n",
      "\n",
      "    accuracy                           0.74       174\n",
      "   macro avg       0.69      0.40      0.40       174\n",
      "weighted avg       0.75      0.74      0.66       174\n",
      "\n"
     ]
    },
    {
     "data": {
      "image/png": "[encoded data removed]",
      "text/plain": [
       "<Figure size 720x432 with 2 Axes>"
      ]
     },
     "metadata": {
      "needs_background": "light"
     },
     "output_type": "display_data"
    }
   ],
   "source": [
    "logisticR_accuracy = evaluate_metrics(logisticR_preds, y_test, \"Logistic Regression Classifier\", logisticR_time)"
   ]
  },
  {
   "cell_type": "code",
   "execution_count": 18,
   "metadata": {},
   "outputs": [],
   "source": [
    "# Random Forest Algorithm\n",
    "\n",
    "RandomForest_model = RandomForestClassifier()\n",
    "RandomForest_start = time.time()\n",
    "RandomForest_model.fit(x_train_vector, y_train)\n",
    "RandomForest_stop = time.time()\n",
    "RandomForest_time = (RandomForest_stop - RandomForest_start)\n",
    "RandomForest_preds = RandomForest_model.predict(x_test_vector)"
   ]
  },
  {
   "cell_type": "code",
   "execution_count": 19,
   "metadata": {},
   "outputs": [
    {
     "name": "stdout",
     "output_type": "stream",
     "text": [
      "Model Type :  Random Forest Classifier\n",
      "\n",
      "Accuracy :  0.75\n",
      "\n",
      "Training Time :  0.41 s\n",
      "\n",
      "               precision    recall  f1-score   support\n",
      "\n",
      "    negative       0.74      0.99      0.85       124\n",
      "     neutral       0.67      0.12      0.20        17\n",
      "    positive       1.00      0.15      0.26        33\n",
      "\n",
      "    accuracy                           0.75       174\n",
      "   macro avg       0.80      0.42      0.44       174\n",
      "weighted avg       0.78      0.75      0.67       174\n",
      "\n"
     ]
    },
    {
     "data": {
      "image/png": "[encoded data removed]",
      "text/plain": [
       "<Figure size 720x432 with 2 Axes>"
      ]
     },
     "metadata": {
      "needs_background": "light"
     },
     "output_type": "display_data"
    }
   ],
   "source": [
    "RandomForest_accuracy = evaluate_metrics(RandomForest_preds, y_test, \"Random Forest Classifier\", RandomForest_time)"
   ]
  },
  {
   "cell_type": "code",
   "execution_count": 20,
   "metadata": {},
   "outputs": [],
   "source": [
    "# Decision Tree Algorithm\n",
    "\n",
    "DecisionTree_model = DecisionTreeClassifier(max_depth=20,random_state=0)\n",
    "DecisionTree_start = time.time()\n",
    "DecisionTree_model.fit(x_train_vector, y_train)\n",
    "DecisionTree_stop = time.time()\n",
    "DecisionTree_time = (DecisionTree_stop - DecisionTree_start)\n",
    "DecisionTree_pred = DecisionTree_model.predict(x_test_vector)"
   ]
  },
  {
   "cell_type": "code",
   "execution_count": 21,
   "metadata": {},
   "outputs": [
    {
     "name": "stdout",
     "output_type": "stream",
     "text": [
      "Model Type :  DecisionTree Classifier\n",
      "\n",
      "Accuracy :  0.76\n",
      "\n",
      "Training Time :  0.02 s\n",
      "\n",
      "               precision    recall  f1-score   support\n",
      "\n",
      "    negative       0.83      0.93      0.87       124\n",
      "     neutral       0.47      0.47      0.47        17\n",
      "    positive       0.56      0.30      0.39        33\n",
      "\n",
      "    accuracy                           0.76       174\n",
      "   macro avg       0.62      0.57      0.58       174\n",
      "weighted avg       0.74      0.76      0.74       174\n",
      "\n"
     ]
    },
    {
     "data": {
      "image/png": "[encoded data removed]",
      "text/plain": [
       "<Figure size 720x432 with 2 Axes>"
      ]
     },
     "metadata": {
      "needs_background": "light"
     },
     "output_type": "display_data"
    }
   ],
   "source": [
    "DecisionTree_accuracy = evaluate_metrics(DecisionTree_pred, y_test, \"DecisionTree Classifier\", DecisionTree_time)"
   ]
  },
  {
   "cell_type": "code",
   "execution_count": 22,
   "metadata": {},
   "outputs": [],
   "source": [
    "# Support Vector Machine Algorithm (Linear SVC classifier)\n",
    "\n",
    "svm_model = svm.SVC(kernel='linear')\n",
    "svm_start = time.time()\n",
    "svm_model.fit(x_train_vector, y_train)\n",
    "svm_stop = time.time()\n",
    "svm_time = (svm_stop - svm_start)\n",
    "svm_preds = svm_model.predict(x_test_vector)"
   ]
  },
  {
   "cell_type": "code",
   "execution_count": 23,
   "metadata": {},
   "outputs": [
    {
     "name": "stdout",
     "output_type": "stream",
     "text": [
      "Model Type :  Support Vector Machine\n",
      "\n",
      "Accuracy :  0.76\n",
      "\n",
      "Training Time :  0.07 s\n",
      "\n",
      "               precision    recall  f1-score   support\n",
      "\n",
      "    negative       0.75      0.99      0.85       124\n",
      "     neutral       0.83      0.29      0.43        17\n",
      "    positive       1.00      0.12      0.22        33\n",
      "\n",
      "    accuracy                           0.76       174\n",
      "   macro avg       0.86      0.47      0.50       174\n",
      "weighted avg       0.81      0.76      0.69       174\n",
      "\n"
     ]
    },
    {
     "data": {
      "image/png": "[encoded data removed]",
      "text/plain": [
       "<Figure size 720x432 with 2 Axes>"
      ]
     },
     "metadata": {
      "needs_background": "light"
     },
     "output_type": "display_data"
    }
   ],
   "source": [
    "svm_accuracy = evaluate_metrics(svm_preds, y_test, \"Support Vector Machine\", svm_time)"
   ]
  },
  {
   "cell_type": "code",
   "execution_count": 24,
   "metadata": {},
   "outputs": [],
   "source": [
    "# Multinomial Naive Bayes Algorithm\n",
    "\n",
    "MultinomialNB_model = MultinomialNB()\n",
    "MultinomialNB_start = time.time()\n",
    "MultinomialNB_model.fit(x_train_vector, y_train)\n",
    "MultinomialNB_stop = time.time()\n",
    "MultinomialNB_time = (MultinomialNB_stop - MultinomialNB_start)\n",
    "MultinomialNB_preds = MultinomialNB_model.predict(x_test_vector)"
   ]
  },
  {
   "cell_type": "code",
   "execution_count": 25,
   "metadata": {},
   "outputs": [
    {
     "name": "stdout",
     "output_type": "stream",
     "text": [
      "Model Type :  Multinomial NB Classifier\n",
      "\n",
      "Accuracy :  0.71\n",
      "\n",
      "Training Time :  0.00 s\n",
      "\n",
      "               precision    recall  f1-score   support\n",
      "\n",
      "    negative       0.71      1.00      0.83       124\n",
      "     neutral       0.00      0.00      0.00        17\n",
      "    positive       0.00      0.00      0.00        33\n",
      "\n",
      "    accuracy                           0.71       174\n",
      "   macro avg       0.24      0.33      0.28       174\n",
      "weighted avg       0.51      0.71      0.59       174\n",
      "\n"
     ]
    },
    {
     "name": "stderr",
     "output_type": "stream",
     "text": [
      "/Users/sachinim/opt/anaconda3/lib/python3.8/site-packages/sklearn/metrics/_classification.py:1221: UndefinedMetricWarning: Precision and F-score are ill-defined and being set to 0.0 in labels with no predicted samples. Use `zero_division` parameter to control this behavior.\n",
      "  _warn_prf(average, modifier, msg_start, len(result))\n"
     ]
    },
    {
     "data": {
      "image/png": "[encoded data removed]",
      "text/plain": [
       "<Figure size 720x432 with 2 Axes>"
      ]
     },
     "metadata": {
      "needs_background": "light"
     },
     "output_type": "display_data"
    }
   ],
   "source": [
    "MultinomialNB_accuracy = evaluate_metrics(MultinomialNB_preds, y_test, \"Multinomial NB Classifier\", MultinomialNB_time)"
   ]
  },
  {
   "cell_type": "code",
   "execution_count": 26,
   "metadata": {},
   "outputs": [
    {
     "data": {
      "image/png": "[encoded data removed]",
      "text/plain": [
       "<Figure size 432x288 with 1 Axes>"
      ]
     },
     "metadata": {
      "needs_background": "light"
     },
     "output_type": "display_data"
    }
   ],
   "source": [
    "# Graph view of Accuracy\n",
    "\n",
    "x = [\"SVM\",\"Logistic Regression\",\"Random Forest\", \"DecisionTree Classifier\", \"Multinomial NB\"]\n",
    "y = [svm_accuracy,logisticR_accuracy,RandomForest_accuracy,DecisionTree_accuracy, MultinomialNB_accuracy]\n",
    "\n",
    "plt.bar(x=x, height=y)\n",
    "plt.title(\"Algorithms Accuracy\")\n",
    "plt.ylabel(\"Accuracy\")\n",
    "plt.xticks(rotation=15)\n",
    "plt.xlabel(\"Algorithm Model\")\n",
    "\n",
    "plt.show()"
   ]
  },
  {
   "cell_type": "code",
   "execution_count": 27,
   "metadata": {},
   "outputs": [],
   "source": [
    "#save tfidf\n",
    "with open(\"tfidf.pkl\", 'wb') as file:\n",
    "    pickle.dump(tfidf_vectorizer, file)"
   ]
  },
  {
   "cell_type": "code",
   "execution_count": 28,
   "metadata": {},
   "outputs": [],
   "source": [
    "#save model\n",
    "with open(\"model.pkl\", 'wb') as file:\n",
    "    pickle.dump(svm_model, file)"
   ]
  },
  {
   "cell_type": "code",
   "execution_count": 29,
   "metadata": {},
   "outputs": [],
   "source": [
    "########### Load and get Predictions - Should goes to the backend \n",
    "\n",
    "with open(\"model.pkl\", 'rb') as file:\n",
    "    model = pickle.load(file)\n",
    "    \n",
    "with open(\"tfidf.pkl\", 'rb') as file:\n",
    "    tfidf = pickle.load(file)"
   ]
  },
  {
   "cell_type": "code",
   "execution_count": null,
   "metadata": {},
   "outputs": [],
   "source": []
  }
 ],
 "metadata": {
  "kernelspec": {
   "display_name": "Python 3",
   "language": "python",
   "name": "python3"
  },
  "language_info": {
   "codemirror_mode": {
    "name": "ipython",
    "version": 3
   },
   "file_extension": ".py",
   "mimetype": "text/x-python",
   "name": "python",
   "nbconvert_exporter": "python",
   "pygments_lexer": "ipython3",
   "version": "3.8.5"
  }
 },
 "nbformat": 4,
 "nbformat_minor": 4
}